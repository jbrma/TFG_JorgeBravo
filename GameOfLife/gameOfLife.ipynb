{
 "cells": [
  {
   "cell_type": "markdown",
   "metadata": {},
   "source": [
    "# Conway's Game of Life"
   ]
  },
  {
   "cell_type": "code",
   "execution_count": 1,
   "metadata": {},
   "outputs": [
    {
     "name": "stdout",
     "output_type": "stream",
     "text": [
      "pygame 2.5.2 (SDL 2.28.3, Python 3.11.4)\n",
      "Hello from the pygame community. https://www.pygame.org/contribute.html\n"
     ]
    }
   ],
   "source": [
    "import pygame\n",
    "import numpy as np\n",
    "import time\n",
    "import genetic_algorithm"
   ]
  },
  {
   "cell_type": "code",
   "execution_count": 2,
   "metadata": {},
   "outputs": [
    {
     "name": "stderr",
     "output_type": "stream",
     "text": [
      "Simulando generaciones:   0%|          | 0/100 [00:00<?, ?gen/s]"
     ]
    },
    {
     "name": "stderr",
     "output_type": "stream",
     "text": [
      "Simulando generaciones: 100%|██████████| 100/100 [02:32<00:00,  1.53s/gen]\n"
     ]
    }
   ],
   "source": [
    "cellsX, cellsY = 50, 50\n",
    "genetic_board = genetic_algorithm.run_genetic_algorithm(cellsX, cellsY)"
   ]
  },
  {
   "cell_type": "code",
   "execution_count": 3,
   "metadata": {},
   "outputs": [],
   "source": [
    "pygame.init()\n",
    "width, height = 800, 800\n",
    "screen = pygame.display.set_mode((height, width))\n",
    "pygame.display.set_caption(\"Conway's Game of Life\")\n",
    "\n",
    "color_bg = 25, 25, 25\n",
    "screen.fill(color_bg)\n",
    "\n",
    "dimCW = width / cellsX\n",
    "dimCH = height / cellsY\n",
    "\n",
    "gameState = np.copy(genetic_board)\n",
    "\n",
    "pause = False\n",
    "running = True\n",
    "\n",
    "while running:\n",
    "        newGameState = np.copy(gameState) # Updated each iteration\n",
    "\n",
    "        screen.fill(color_bg) # Clean the screen\n",
    "        time.sleep(0.1)\n",
    "\n",
    "        for event in pygame.event.get():\n",
    "            \n",
    "            if event.type == pygame.KEYDOWN: # Pause the game\n",
    "                pause = not pause\n",
    "                \n",
    "            if event.type == pygame.QUIT: # Exit the game\n",
    "                running = False\n",
    "            \n",
    "            click = pygame.mouse.get_pressed()\n",
    "\n",
    "            if sum(click) > 0: # Detects a click and get its position\n",
    "                posX, posY = pygame.mouse.get_pos()\n",
    "                celX, celY = int(np.floor(posX / dimCW)), int(np.floor(posY / dimCH))\n",
    "                newGameState[celX, celY] = not gameState[celX, celY]\n",
    "\n",
    "        for y in range(0, cellsX):\n",
    "            for x in range(0, cellsY):\n",
    "                \n",
    "                if not pause:\n",
    "                    # Calculate number of neighbours around it\n",
    "                    num_neigh = gameState[(x-1) % cellsX, (y-1) % cellsY] + \\\n",
    "                                gameState[(x)   % cellsX, (y-1) % cellsY] + \\\n",
    "                                gameState[(x+1) % cellsX, (y-1) % cellsY] + \\\n",
    "                                gameState[(x-1) % cellsX, (y)   % cellsY] + \\\n",
    "                                gameState[(x+1) % cellsX, (y)   % cellsY] + \\\n",
    "                                gameState[(x-1) % cellsX, (y+1) % cellsY] + \\\n",
    "                                gameState[(x)   % cellsX, (y+1) % cellsY] + \\\n",
    "                                gameState[(x+1) % cellsX, (y+1) % cellsY]\n",
    "                                \n",
    "                    # Rule #1 -> Generation: If a dead cell has exactly 3 living neighbouring cells, it borns\n",
    "                    if gameState[x, y] == 0 and num_neigh == 3:\n",
    "                        newGameState[x, y] = 1\n",
    "\n",
    "\n",
    "                    # Rule #2 -> Isolation:       If a living cell has only one or no neighbours around, it dies\n",
    "                    #            Overpopulation:  If it has more than 3 neighbours around it, it dies.\n",
    "                    elif gameState[x, y] == 1 and (num_neigh < 2 or num_neigh > 3):\n",
    "                        newGameState[x, y] = 0\n",
    "                \n",
    "\n",
    "                # Círculo\n",
    "                center_x = (x + 0.5) * dimCW\n",
    "                center_y = (y + 0.5) * dimCH\n",
    "                radius = min(dimCW, dimCH) / 2 - 1  \n",
    "\n",
    "                if newGameState[x,y] == 0:\n",
    "                    pygame.draw.circle(screen, (24, 24, 24), (int(center_x), int(center_y)), int(radius), width=1)\n",
    "                else:\n",
    "                    pygame.draw.circle(screen, (255, 255, 255), (int(center_x), int(center_y)), int(radius), width=0)\n",
    "\n",
    "                # Cuadrado \n",
    "                \"\"\" poly = [(x * dimCW, y * dimCH),\n",
    "                        ((x+1) * dimCW, y * dimCH),\n",
    "                        ((x+1) * dimCW, (y+1) * dimCH),\n",
    "                        (x * dimCW, (y+1) * dimCH)]\n",
    "                \n",
    "                if newGameState[x,y] == 0:\n",
    "                    pygame.draw.polygon(screen, (128, 128, 128), poly, width=1)\n",
    "                else:\n",
    "                    pygame.draw.polygon(screen, (128, 128, 128), poly, width=0) \"\"\"\n",
    "\n",
    "        gameState = np.copy(newGameState)\n",
    "\n",
    "        pygame.display.flip()\n",
    "\n",
    "pygame.quit()"
   ]
  }
 ],
 "metadata": {
  "kernelspec": {
   "display_name": "Python 3",
   "language": "python",
   "name": "python3"
  },
  "language_info": {
   "codemirror_mode": {
    "name": "ipython",
    "version": 3
   },
   "file_extension": ".py",
   "mimetype": "text/x-python",
   "name": "python",
   "nbconvert_exporter": "python",
   "pygments_lexer": "ipython3",
   "version": "3.11.4"
  }
 },
 "nbformat": 4,
 "nbformat_minor": 2
}
